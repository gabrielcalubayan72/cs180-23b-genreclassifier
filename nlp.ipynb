{
 "cells": [
  {
   "cell_type": "code",
   "execution_count": 9,
   "metadata": {},
   "outputs": [],
   "source": [
    "import pandas as pd\n",
    "import matplotlib.pyplot as plt\n",
    "import re\n",
    "import copy\n",
    "import string\n",
    "import seaborn as sns\n",
    "import numpy as np\n",
    "from scipy import stats"
   ]
  },
  {
   "cell_type": "markdown",
   "metadata": {},
   "source": [
    "Genius Lyrics Dataset from: https://www.kaggle.com/datasets/carlosgdcj/genius-song-lyrics-with-language-information/data\n",
    "\n",
    "Relevant columns are the following (nonexhaustive):\n",
    "* `title`\n",
    "* `tag`\n",
    "* `artist`\n",
    "* `lyrics`\n",
    "* `language`"
   ]
  },
  {
   "cell_type": "code",
   "execution_count": 2,
   "metadata": {},
   "outputs": [],
   "source": [
    "# loading the filtered dataset\n",
    "df = pd.read_csv('./filceb_lyrics.csv', engine='python')"
   ]
  },
  {
   "cell_type": "markdown",
   "metadata": {},
   "source": [
    "**Checking missing values**"
   ]
  },
  {
   "cell_type": "code",
   "execution_count": 4,
   "metadata": {},
   "outputs": [
    {
     "name": "stdout",
     "output_type": "stream",
     "text": [
      "Number of null values:\n",
      "Title: 0\n",
      "Tag: 0\n",
      "Artist: 0\n",
      "Lyrics: 0\n",
      "Language: 0\n"
     ]
    }
   ],
   "source": [
    "title_null_count = df[\"title\"].isnull().sum()\n",
    "tag_null_count = df[\"tag\"].isnull().sum()\n",
    "artist_null_count = df[\"artist\"].isnull().sum()\n",
    "lyrics_null_count = df[\"lyrics\"].isnull().sum()\n",
    "language_null_count = df[\"language\"].isnull().sum()\n",
    "\n",
    "print(\"Number of null values:\")\n",
    "print(\"Title:\", title_null_count)\n",
    "print(\"Tag:\", title_null_count)\n",
    "print(\"Artist:\", title_null_count)\n",
    "print(\"Lyrics:\", title_null_count)\n",
    "print(\"Language:\", title_null_count)"
   ]
  },
  {
   "cell_type": "markdown",
   "metadata": {},
   "source": [
    "**Lyrics cleanup - Ensuring Formatting consistency**"
   ]
  },
  {
   "cell_type": "code",
   "execution_count": 17,
   "metadata": {},
   "outputs": [
    {
     "data": {
      "text/plain": [
       "<bound method NDFrame.head of                                  title  tag        artist  year  views  \\\n",
       "0                             All star  rap  Enchant boyz  2012     27   \n",
       "1                        Balak ni Syke  rap        Gloc-9  2012   2313   \n",
       "2                       Apatnapungbara  rap        Gloc-9  2012   2423   \n",
       "3                                Silup  rap        Gloc-9  2012   1392   \n",
       "4     By Repablikan Syndicate Siobal D  rap     Pagbigyan  2012   2135   \n",
       "...                                ...  ...           ...   ...    ...   \n",
       "7287                  PANGHABANG-BUHAY  pop         Bradz  2022      7   \n",
       "7288                             Totoo  pop        NOBITA  2022    176   \n",
       "7289            Willow Smith Refine EP  rap   Crid Taylor  2022      2   \n",
       "7290               ISSA VIBE REFINE EP  rap   Crid Taylor  2022      2   \n",
       "7291          SATURDAY NIGHT REFINE EP  rap   Crid Taylor  2022      3   \n",
       "\n",
       "                features                                             lyrics  \\\n",
       "0             {Lil_john}  ako nang unang bibira para mabomba ang bara ka...   \n",
       "1                     {}  kung may alak may balak lasing sa kasalukuyan ...   \n",
       "2          {\"Ian Tayao\"}   akoy tutula mahaba nako umupo na po tapos na ...   \n",
       "3     {\"Denise Barcena\"}   mamang pulis pwede ba akong humingi sa inyo n...   \n",
       "4           {Military-g}  pagbiyan mo ang puso ko na umibig sa katulafd ...   \n",
       "...                  ...                                                ...   \n",
       "7287                  {}  stanza alam mo bang mahal na mahal kita at hab...   \n",
       "7288                  {}   hirang tingin mo lang nabighani at sa iyoy na...   \n",
       "7289                  {}   kanina pa nag iisip kung pano magagawa yung m...   \n",
       "7290                  {}   pasa mo sa kanila hayaan mo ang usok enerhiya...   \n",
       "7291                  {}   sabado night sabado night sabado night sabado...   \n",
       "\n",
       "           id language_cld3 language_ft language  \n",
       "0       64812           fil         fil      fil  \n",
       "1       85710           fil         fil      fil  \n",
       "2       85711           fil         fil      fil  \n",
       "3       85713           fil         fil      fil  \n",
       "4       88704           fil         fil      fil  \n",
       "...       ...           ...         ...      ...  \n",
       "7287  7877379           fil         fil      fil  \n",
       "7288  7879370           fil         fil      fil  \n",
       "7289  7882031           fil         fil      fil  \n",
       "7290  7882047           fil         fil      fil  \n",
       "7291  7882070           fil         fil      fil  \n",
       "\n",
       "[7292 rows x 11 columns]>"
      ]
     },
     "execution_count": 17,
     "metadata": {},
     "output_type": "execute_result"
    }
   ],
   "source": [
    "# Function to remove punctuation\n",
    "def remove_punctuation(text):\n",
    "    return text.translate(str.maketrans('', '', string.punctuation))\n",
    "\n",
    "df['lyrics'] = df['lyrics'].apply(remove_punctuation)\n",
    "\n",
    "# Function to remove newlines\n",
    "def remove_newlines(text):\n",
    "    return text.replace('\\n', ' ')\n",
    "\n",
    "# Apply the function to the \"lyrics\" column\n",
    "df['lyrics'] = df['lyrics'].apply(remove_newlines)\n",
    "\n",
    "# Lowercase all lyrics\n",
    "def lowercase_text(text):\n",
    "    return text.lower()\n",
    "df['lyrics'] = df['lyrics'].apply(lowercase_text)\n",
    "\n",
    "# Remove song part markers e.g., [CHORUS], [Verse 1], (Loonie)\n",
    "def remove_bracket_parenthesis_text(text):\n",
    "    return re.sub(r'\\[.*?\\]|\\(.*?\\)', '', text)\n",
    "\n",
    "df['lyrics'] = df['lyrics'].apply(remove_bracket_parenthesis_text)\n",
    "\n",
    "def remove_song_parts(text):\n",
    "    song_parts = [\"chorus\", \"verse\", \"bridge\", \"coda\", \"refrain\"] # we can add more later\n",
    "    for word in song_parts:\n",
    "        text = text.replace(word, '')\n",
    "    return text\n",
    "df['lyrics'] = df['lyrics'].apply(lambda x: remove_song_parts(x))\n",
    "\n",
    "df.head"
   ]
  },
  {
   "cell_type": "markdown",
   "metadata": {},
   "source": [
    "**Stopword removal**\n",
    "\n",
    "Filipino stopwords from [this repository](https://github.com/stopwords-iso/stopwords-tl). Cebuano stopwords from [this repository](https://github.com/digitalheir/cebuano-dictionary-js/tree/master)"
   ]
  },
  {
   "cell_type": "code",
   "execution_count": 19,
   "metadata": {},
   "outputs": [
    {
     "data": {
      "text/plain": [
       "<bound method NDFrame.head of                                  title  tag        artist  year  views  \\\n",
       "0                             All star  rap  Enchant boyz  2012     27   \n",
       "1                        Balak ni Syke  rap        Gloc-9  2012   2313   \n",
       "2                       Apatnapungbara  rap        Gloc-9  2012   2423   \n",
       "3                                Silup  rap        Gloc-9  2012   1392   \n",
       "4     By Repablikan Syndicate Siobal D  rap     Pagbigyan  2012   2135   \n",
       "...                                ...  ...           ...   ...    ...   \n",
       "7287                  PANGHABANG-BUHAY  pop         Bradz  2022      7   \n",
       "7288                             Totoo  pop        NOBITA  2022    176   \n",
       "7289            Willow Smith Refine EP  rap   Crid Taylor  2022      2   \n",
       "7290               ISSA VIBE REFINE EP  rap   Crid Taylor  2022      2   \n",
       "7291          SATURDAY NIGHT REFINE EP  rap   Crid Taylor  2022      3   \n",
       "\n",
       "                features                                             lyrics  \\\n",
       "0             {Lil_john}  nang unang bibira mabomba bara mag ihaw gamit ...   \n",
       "1                     {}  alak balak lasing kasalukuyan ngunit malaman a...   \n",
       "2          {\"Ian Tayao\"}  akoy tutula mahaba nako umupo po tapos nga hug...   \n",
       "3     {\"Denise Barcena\"}  mamang pulis pwede ba akong humingi inyo tulon...   \n",
       "4           {Military-g}  pagbiyan mo puso umibig katulafd mo limutin yo...   \n",
       "...                  ...                                                ...   \n",
       "7287                  {}  stanza alam mo bang mahal mahal kita tumatagal...   \n",
       "7288                  {}  hirang tingin mo lang nabighani iyoy nahibang ...   \n",
       "7289                  {}  kanina nag iisip pano magagawa yung plano di n...   \n",
       "7290                  {}  pasa mo hayaan mo usok enerhiya dala kusang ma...   \n",
       "7291                  {}  sabado night sabado night sabado night sabado ...   \n",
       "\n",
       "           id language_cld3 language_ft language  \n",
       "0       64812           fil         fil      fil  \n",
       "1       85710           fil         fil      fil  \n",
       "2       85711           fil         fil      fil  \n",
       "3       85713           fil         fil      fil  \n",
       "4       88704           fil         fil      fil  \n",
       "...       ...           ...         ...      ...  \n",
       "7287  7877379           fil         fil      fil  \n",
       "7288  7879370           fil         fil      fil  \n",
       "7289  7882031           fil         fil      fil  \n",
       "7290  7882047           fil         fil      fil  \n",
       "7291  7882070           fil         fil      fil  \n",
       "\n",
       "[7292 rows x 11 columns]>"
      ]
     },
     "execution_count": 19,
     "metadata": {},
     "output_type": "execute_result"
    }
   ],
   "source": [
    "# remove Filipino stopwords in songs with \"fil\" language value\n",
    "fil_sw_bank = open(\"./genediazjr-tagalog.txt\", 'r', encoding='utf-8')\n",
    "fil_stopwords = [line.strip() for line in fil_sw_bank]\n",
    "\n",
    "def remove_fil_stopwords(text):\n",
    "    words = text.split()\n",
    "    cleaned_words = [word for word in words if word not in fil_stopwords]\n",
    "    return ' '.join(cleaned_words)\n",
    "\n",
    "df.loc[df['language'] == 'fil', 'lyrics'] = df[df['language'] == 'fil']['lyrics'].apply(remove_fil_stopwords)\n",
    "\n",
    "# remove Cebuano stopwords in songs with \"ceb\" language value\n",
    "ceb_sw_bank = open(\"./cebuanostopwords.txt\", 'r', encoding='utf-8')\n",
    "ceb_stopwords = [line.strip() for line in ceb_sw_bank]\n",
    "\n",
    "def remove_ceb_stopwords(text):\n",
    "    words = text.split()\n",
    "    cleaned_words = [word for word in words if word not in ceb_stopwords]\n",
    "    return ' '.join(cleaned_words)\n",
    "\n",
    "df.loc[df['language'] == 'ceb', 'lyrics'] = df[df['language'] == 'ceb']['lyrics'].apply(remove_fil_stopwords)\n",
    "df.head\n"
   ]
  }
 ],
 "metadata": {
  "kernelspec": {
   "display_name": "Python 3",
   "language": "python",
   "name": "python3"
  },
  "language_info": {
   "codemirror_mode": {
    "name": "ipython",
    "version": 3
   },
   "file_extension": ".py",
   "mimetype": "text/x-python",
   "name": "python",
   "nbconvert_exporter": "python",
   "pygments_lexer": "ipython3",
   "version": "3.10.11"
  }
 },
 "nbformat": 4,
 "nbformat_minor": 2
}
